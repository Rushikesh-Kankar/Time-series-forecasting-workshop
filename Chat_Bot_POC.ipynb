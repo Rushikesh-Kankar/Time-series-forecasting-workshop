{
  "nbformat": 4,
  "nbformat_minor": 0,
  "metadata": {
    "colab": {
      "provenance": [],
      "collapsed_sections": [
        "SyEgBSA7jayU"
      ]
    },
    "kernelspec": {
      "name": "python3",
      "display_name": "Python 3"
    },
    "language_info": {
      "name": "python"
    }
  },
  "cells": [
    {
      "cell_type": "markdown",
      "source": [
        "# Steps to create a **chatbot** POC\n",
        "\n"
      ],
      "metadata": {
        "id": "C73h0XJsUJqf"
      }
    },
    {
      "cell_type": "markdown",
      "source": [
        "Chatbot's purpose:\n",
        "\n",
        " - The main purpose of the chatbot would be\n",
        "- The chatbot for the University of Central Florida's Office of Research should be capable of providing comprehensive answers to questions related to the university's website and available resources.\n",
        "\n",
        "  - Additionally, the chatbot should possess the ability to analyze research proposals and suggest appropriate resources from UCF. It should be able to understand the content of the proposals and identify the required resources, even if they are not explicitly mentioned in the proposal itself.\n",
        "\n",
        "- Additionally the general requirements as mentioned below\n",
        "\n",
        "  1. Able to answer the user query 24/7\n",
        "  2. Is able to support text input\n",
        "  3. Follow a pre-defined script along with more advanced capabilities, like natural language understanding\n",
        "  4. Able to retrieve information from a knowledge base and answer in a human-like way\n",
        "\n",
        "---"
      ],
      "metadata": {
        "id": "biWstNtAjlGv"
      }
    },
    {
      "cell_type": "markdown",
      "source": [
        "Designing the conversation flow:\n",
        "\n",
        "1. Outline the typical conversation flow that the users will go through. Example: greeting messages, possible user queries, and responses. Use user-centric design, considering what the users will find most helpful.\n",
        "\n",
        "2. Building and training the chatbot:\n",
        "\n",
        "   - Use the chosen platform to build the chatbot. Input the conversation flow and other parameters in the platform and train your chatbot, as it uses machine learning. This will involve providing sample conversations for the bot to learn from.\n",
        "   - Integrate with the systems: If your chatbot needs to access data from other systems (e.g., to answer queries or perform actions), integrate it with these systems.\n",
        "\n",
        "Test the chatbot:\n",
        "\n",
        "1. Thoroughly test the chatbot to ensure it works as expected,\n",
        "  - testing the conversation flow\n",
        "  - error handling\n",
        "  - integration with other systems.\n",
        "\n",
        "Deploy the chatbot:\n",
        "\n",
        "1. Once satisfied with the chatbot, deploy it to the required platform(s).\n",
        "\n",
        "Monitor and iterate:\n",
        "\n",
        "1. After deployment\n",
        " - continue monitoring the chatbot and gathering user feedback.\n",
        " - Iterate and make improvements based on the feedback received.\n",
        "---"
      ],
      "metadata": {
        "id": "FByRHnjWd2Of"
      }
    },
    {
      "cell_type": "markdown",
      "source": [
        "# Discovery Phase"
      ],
      "metadata": {
        "id": "SyEgBSA7jayU"
      }
    },
    {
      "cell_type": "markdown",
      "source": [
        "## Discovery Phase\n",
        "\n",
        "1. Compile a list of chatbots being used on UCF websites. Once we have the list, we will reach out to some of the chatbot owners to get information on how they developed it (tools & technology):\n",
        "    - [Financial Aid Resources](https://www.ucf.edu/financial-aid/resources/)\n",
        "    - [UCF Registrar](https://registrar.ucf.edu/)\n",
        "    - [Academic Success - Advising Offices](https://academicsuccess.ucf.edu/ssa/advising-offices/)\n",
        "    - [Academic Success - KMETC](https://academicsuccess.ucf.edu/kmetc/)\n",
        "    - [Student Accounts](https://studentaccounts.ucf.edu/)\n",
        "    - [UCF Center for Distributed Learning - Teach](https://cdl.ucf.edu/teach/)\n",
        "\n",
        "Pros:\n",
        "- Accurate Information: The bot is well-equipped with updated and accurate information about UCF's procedures, resources, and policies.\n",
        "- User-friendly Command Functions: Knight Bot offers a series of command functions like #followup, #index, etc., that serve as a handy shortcut to specific topics.\n",
        "- Multiple Options: Knight Bot guides the conversation based on the user's needs by providing multiple options to choose from.\n",
        "\n",
        "Cons:\n",
        "- Limited Understanding: The Knight Bot can struggle with unexpected user inputs or slight deviations from its programming.\n",
        "- Lack of Personalization: The bot lacks the ability to personalize responses to individual queries fully.\n",
        "- Dependence on Accurate User Input: The usefulness of the bot is tied heavily to the accuracy and clarity of user input.\n",
        "- Limited Scope: There might be questions or concerns that fall outside of the bot's programming.\n",
        "\n",
        "UCF Knight Bot is an excellent tool for managing common queries and providing accessible information. However, it is best used in combination with human support for the most comprehensive service.\n",
        "\n",
        "## AI Chatbot Tools:\n",
        "\n",
        "- IBM Watson Assistant: IBM's Watson Assistant is a powerful AI tool that can be used to build a chatbot capable of answering a wide range of student inquiries. It can be integrated with university systems to provide personalized responses.\n",
        "\n",
        "- Google Dialogflow: Dialogflow allows for the creation of sophisticated conversational agents. It can handle natural language processing and understanding, allowing for complex, context-aware conversations with students.\n",
        "\n",
        "- Rasa: Rasa is an open-source framework that provides flexibility and control. With Rasa, universities can build chatbots that can have in-depth, multi-turn conversations and handle complex user goals.\n",
        "\n",
        "- Microsoft Bot Framework: Universities already using Microsoft's suite of tools might find it easiest to use Microsoft Bot Framework, as it can seamlessly integrate with other Microsoft products.\n",
        "\n",
        "**Rasa:**\n",
        "\n",
        "Rasa is an open-source framework that provides flexibility and control. With Rasa, universities can build chatbots that can have in-depth, multi-turn conversations and handle complex user goals.\n",
        "\n",
        "Pros:\n",
        "- Customization and scalability: Rasa offers a high level of customization, allowing universities to tailor their chatbots to their specific needs and easily add new features or integrations.\n",
        "- Natural language understanding and dialogue management: Rasa supports natural language understanding and dialogue management, enabling rich and natural interactions with users.\n",
        "- Active community support: Rasa has a large and active community of developers and users who provide support, feedback, and resources.\n",
        "\n",
        "Cons:\n",
        "- Advanced coding skills required: Rasa requires advanced coding skills and technical expertise, which may be challenging for universities with limited technical resources or expertise.\n",
        "- Steep learning curve: Users new to Rasa may need to invest time and effort to learn how to use it properly.\n",
        "- Lack of out-of-the-box features: Rasa may not have all the features or integrations that universities need, requiring the development of custom solutions or use of third-party tools.\n",
        "\n",
        "---\n",
        "**Microsoft Bot Framework:**\n",
        "\n",
        "Microsoft Bot Framework is a comprehensive platform for building, testing, deploying, and managing chatbots across multiple channels. It integrates seamlessly with other Microsoft products and services.\n",
        "\n",
        "Pros:\n",
        "- User-friendly development platform: Microsoft Bot Framework provides a user-friendly platform, allowing users to create chatbots using graphical tools or code editors without extensive coding.\n",
        "- Natural language processing and understanding: Microsoft Bot Framework supports natural language processing and understanding, enabling complex and context-aware conversations.\n",
        "- Extensive features and integrations: Microsoft Bot Framework offers a wide range of features and integrations that enhance chatbot functionality.\n",
        "\n",
        "Cons:\n",
        "- Compatibility limitations: Microsoft Bot Framework may not be compatible with non-Microsoft systems or databases, requiring assessment of compatibility and integration options.\n",
        "- Limited customization and flexibility: Microsoft Bot Framework may have limited customization options and control over the development roadmap compared to fully custom-built solutions.\n",
        "- Cost considerations: Microsoft Bot Framework and associated services may have subscription fees and additional costs for using other Microsoft products or services.\n",
        "---\n",
        "\n",
        "For more details, reach out to UCF IT.\n",
        "\n",
        "Suggestions for implementation:\n",
        "- Consider using OpenAI, Azure Open AI, or AI-powered Microsoft Bot Framework for building the chatbot.\n",
        "- Explore Microsoft's suite of tools for chatbot development.\n",
        "\n"
      ],
      "metadata": {
        "id": "zgVDoVqpdbQS"
      }
    },
    {
      "cell_type": "markdown",
      "source": [
        "# Additional Resources from Azure (meeting)"
      ],
      "metadata": {
        "id": "7xi8lU4ojzXv"
      }
    },
    {
      "cell_type": "markdown",
      "source": [
        "Additional Resources from Azure (meeting)\n",
        "\n",
        "---\n",
        "1. [Vimeo Video](https://vimeo.com/792722191/6aa7391024?embedded=true&source=vimeo_logo&owner=98548747) [Zambo.ai demo]\n",
        "\n",
        "\n",
        "2. [GitHub - Conversational Azure OpenAI Accelerator](https://github.com/MSUSAzureAccelerators/Conversational-Azure-OpenAI-Accelerator) [use Auto ML along with Conversational Azure OpenAI Accelerator |No code | Used by Zambo.ai]\n",
        "\n",
        "```\n",
        "- Zammo.ai for University Chatbot\n",
        "\n",
        "Zammo.ai is a conversational AI software platform that offers a no-code solution for building and deploying chatbots. It aims to modernize communications and provide intelligent, human-like interactions with users. When considering Zammo.ai for a university chatbot, it's important to evaluate the advantages, disadvantages, and pricing associated with the platform.\n",
        "\n",
        "### Advantages of Using Zammo.ai for a University Chatbot:\n",
        "\n",
        "1. **No-Code Solution:** Zammo.ai provides a no-code platform, eliminating the need for advanced coding skills. This can benefit universities with limited technical resources or expertise.\n",
        "\n",
        "2. **Quick Setup and Deployment:** Zammo.ai offers a 1-day setup and deployment, enabling universities to get their chatbot up and running quickly. This can save time and resources compared to custom development.\n",
        "\n",
        "3. **Conversational AI Capabilities:** Zammo.ai leverages conversational AI technology to deliver intelligent and natural interactions. The chatbot can understand user queries, provide relevant responses, and handle various conversation flows.\n",
        "\n",
        "4. **24/7 Support:** With Zammo.ai, universities can provide 24/7 support to students and users. The chatbot can answer common questions, provide information about courses, campus facilities, admission procedures, and more, even outside regular office hours.\n",
        "\n",
        "5. **Cost-Effective:** Using Zammo.ai can be cost-effective compared to developing a chatbot from scratch or hiring a dedicated development team. It eliminates the need for extensive coding and reduces development and maintenance costs.\n",
        "\n",
        "### Disadvantages of Using Zammo.ai for a University Chatbot:\n",
        "\n",
        "1. **Customization Limitations:** While Zammo.ai offers a user-friendly platform, there may be limitations on customization compared to a fully custom-built chatbot. Specific university requirements or unique functionalities may not be easily accommodated.\n",
        "\n",
        "2. **Learning Curve:** Users who are new to the platform may experience a learning curve. Training and familiarization may be required to effectively utilize all the features and capabilities of Zammo.ai.\n",
        "\n",
        "3. **Integration Complexity:** Integrating Zammo.ai with existing systems or databases (e.g., student information systems) may present challenges. It's important to assess compatibility and integration options.\n",
        "\n",
        "4. **Dependency on Third-Party Platform:** Utilizing Zammo.ai makes the university reliant on the platform for ongoing support, updates, and maintenance. Changes or disruptions in the platform's availability or pricing may affect the chatbot's functionality.\n",
        "\n",
        "5. **Limited Control over Platform:** As Zammo.ai is a third-party platform, the university may have limited control over the platform's development roadmap, feature updates, and customization options. Long-term alignment with the university's needs and goals should be considered.\n",
        "\n",
        "### Pricing:\n",
        "\n",
        "Zammo.ai offers different pricing plans tailored to the needs of organizations.\n",
        "\n",
        "\n",
        "\n",
        "```\n",
        "---\n",
        "\n",
        "3. [Azure Cognitive Services - Language Service](https://learn.microsoft.com/en-us/azure/cognitive-services/language-service/)\n",
        "\n",
        "4. [Azure Cognitive Services - Question Answering](https://learn.microsoft.com/en-us/azure/cognitive-services/language-service/question-answering/overview)\n",
        "\n",
        "5. [Azure Cognitive Services - Question Answering Tutorial](https://learn.microsoft.com/en-us/azure/cognitive-services/language-service/question-answering/tutorials/bot-service)\n",
        "\n",
        "```\n",
        "\n",
        "### Azure Cognitive Services Language Service\n",
        "\n",
        "Azure Cognitive Services Language Service provides a set of APIs for natural language processing and understanding. These APIs can enhance our chatbot's capabilities in the following ways:\n",
        "\n",
        "- **Text Analytics**: With Text Analytics API, we can analyze the user's input and extract essential information like keywords, entities, sentiment, etc. This information can be utilized to generate relevant and personalized responses.\n",
        "\n",
        "- **Language Understanding (LUIS)**: LUIS API enables you to comprehend the user's intent and context from their input. This understanding can be used to guide the conversation flow and perform appropriate actions.\n",
        "\n",
        "- **Question Answering**: Question Answering API allows you to extract answers from unstructured text. By creating a knowledge base from text documents, you can employ this API to answer queries regarding your website or available resources.\n",
        "```\n",
        "\n",
        "---\n",
        "\n",
        "6. [Azure Bot Service Overview](https://learn.microsoft.com/en-us/azure/bot-service/bot-overview?view=azure-bot-service-4.0)\n",
        "\n",
        "```\n",
        "Power Virtual Agents and the Bot Framework SDK are both chatbot solutions provided by Microsoft, but they differ in their target audience, development approach, and capabilities. Here are the key differences between Power Virtual Agents and the Bot Framework SDK: [Video](https://powervirtualagents.microsoft.com/en-us/demo/) includes\n",
        "\n",
        "\n",
        "Target Audience:\n",
        "\n",
        "Power Virtual Agents: Power Virtual Agents is designed to support fusion teams, citizen developers, and specialized vendors. It allows non-technical users to create chatbots without the need for coding or deep technical expertise.\n",
        "Bot Framework SDK: The Bot Framework SDK is primarily targeted at developers who have coding skills and want more flexibility and control over the bot's development process.\n",
        "Development Approach:\n",
        "\n",
        "Power Virtual Agents: Power Virtual Agents uses a visual, no-code approach for bot development. Users can build chatbots using a graphical interface, pre-built components, and natural language understanding (NLU) models. It simplifies the development process by abstracting away the need for coding.\n",
        "\n",
        "Bot Framework SDK: The Bot Framework SDK provides a framework for building bots using code. Developers have more control and flexibility to customize the bot's behavior, integrate with various services and platforms, and implement advanced functionalities.\n",
        "Flexibility and Customization:\n",
        "\n",
        "Power Virtual Agents: Power Virtual Agents offers a streamlined and simplified development experience, focusing on ease of use and rapid development. It provides pre-built connectors, templates, and AI models to speed up bot creation. However, it may have limitations in terms of customization and extensibility compared to the Bot Framework SDK.\n",
        "\n",
        "Bot Framework SDK: The Bot Framework SDK offers a wide range of features, tools, and AI services for more advanced bot development. It provides greater flexibility and control over the bot's behavior, integration with other services, and the ability to handle complex scenarios.\n",
        "Deployment and Integration:\n",
        "\n",
        "Power Virtual Agents: Power Virtual Agents provides seamless integration with the Microsoft Power Platform, including Power Automate for data connectivity and automation. It supports deployment to multiple channels, such as Microsoft Teams, websites, and mobile apps.\n",
        "\n",
        "Bot Framework SDK: The Bot Framework SDK allows you to deploy bots across various channels and platforms, including Microsoft Teams, websites, messaging platforms, and custom applications. It provides more options for hosting, scalability, and integration with Azure services.\n",
        "In summary, Power Virtual Agents is a no-code, visual tool targeting non-technical users for rapid bot development, while the Bot Framework SDK is aimed at developers seeking more customization, flexibility, and control over the bot's behavior and integration capabilities.\n",
        "\n",
        "\n",
        "\n",
        "We can use openAI capabilities in bot framework sdk using [https://github.com/michalmar/openai-demos-bot]\n",
        "```\n",
        "---\n",
        "7. [Azure Composer - Quickstart Create Bot](https://learn.microsoft.com/en-us/composer/quickstart-create-bot)\n",
        "\n",
        "```\n",
        "## Bot Framework Composer or Azure Bot Framework SDK\n",
        "\n",
        "These tools allow us to design and build custom bots that can integrate with the knowledge base created using Azure Cognitive Services Language Question Answering service and the machine learning models trained using LUIS.\n",
        "\n",
        "To use these tools for our use case, you would need to design and build a custom bot that integrates with the knowledge base and machine learning model. The bot would need to be able to receive user input, query the knowledge base or machine learning model for an appropriate response, and provide the response to the user.\n",
        "```\n",
        "\n",
        "\n",
        "8. [Azure Search OpenAI Demo](https://github.com/Azure-Samples/azure-search-openai-demo/)   [Youtube link](https://www.youtube.com/watch?v=A_gVmzAHEhU) : - Retrieval Augumented generation (RAG)\n",
        "\n",
        "\n",
        "---\n"
      ],
      "metadata": {
        "id": "pQH8-ExxjVl7"
      }
    },
    {
      "cell_type": "markdown",
      "source": [
        "| Service | Pros | Cons |\n",
        "| --- | --- | --- |\n",
        "| Azure Cognitive Services Language Question Answering service | Allows creation of a conversational Q&A layer over existing data | Requires technical expertise for integration and knowledge base management |\n",
        "| Azure Cognitive Services Language Understanding (LUIS) | Enables training custom ML models for text understanding and information extraction | Requires technical expertise for model training and integration |\n",
        "| Bot Framework Composer or Azure Bot Framework SDK | Provides tools for designing and building custom bots | Requires technical expertise for bot development |\n",
        "| Power Virtual Agents | No-code graphical interface for creating chatbots | Limited customization and flexibility compared to code-based development |\n"
      ],
      "metadata": {
        "id": "pyfDNSDZdBwu"
      }
    },
    {
      "cell_type": "markdown",
      "source": [
        "[Code reference](https://github.com/whitead/paper-qa) - Shared by Dr. Khan"
      ],
      "metadata": {
        "id": "Gc2ECQbTwydX"
      }
    },
    {
      "cell_type": "markdown",
      "source": [
        "# Decision on the tools to use"
      ],
      "metadata": {
        "id": "NI869VGwnR6j"
      }
    },
    {
      "cell_type": "markdown",
      "source": [
        "- Currently I'm exploring\n",
        "[how to build an enterprise-grade conversational chatbot using the Azure Bot Framework](https://learn.microsoft.com/en-us/azure/architecture/reference-architectures/ai/conversational-bot)\n",
        "\n",
        "- Will run [ChatGPT + Enterprise data with Azure OpenAI and Cognitive Search\n",
        "](https://github.com/Azure-Samples/azure-search-openai-demo)\n"
      ],
      "metadata": {
        "id": "EllzK8O7wxxk"
      }
    },
    {
      "cell_type": "markdown",
      "source": [
        "- Storage account\n",
        "- POC for machine learning studio (To be thought of)\n",
        "-"
      ],
      "metadata": {
        "id": "qeFIjiovGWC6"
      }
    },
    {
      "cell_type": "markdown",
      "source": [
        "Create a chatbot using ChatGPT + Enterprise data with Azure OpenAI and Cognitive Search and then host it using  the Azure Bot Framework\n",
        "\n"
      ],
      "metadata": {
        "id": "_czbqVCLkde0"
      }
    },
    {
      "cell_type": "markdown",
      "source": [
        "# Langchain\n",
        "\n",
        "https://python.langchain.com/docs/get_started\n",
        "\n",
        "LangChain is a framework for developing applications powered by language models. It enables applications that are data-aware, meaning they can connect a language model to other sources of data, and agentic, meaning they allow a language model to interact with its environment1.\n",
        "\n",
        "LangChain provides a variety of components for specific use cases, such as personal assistants, question answering over documents, chatbots, querying tabular data, interacting with APIs, extraction, evaluation, and summarization2. LangChain provides a pipeline of steps that generate text from input prompts. The pipeline comprises seven main components: input (prompt templates), the large language model, agents, utilities, document loaders, chains, indexes, and memory3."
      ],
      "metadata": {
        "id": "A1g8g9e4RI9J"
      }
    },
    {
      "cell_type": "markdown",
      "source": [
        "We will Be using Chatbot With Custom Data Using Azure OpenAI [link](https://www.youtube.com/watch?v=8n-lDrWn2vg)\n"
      ],
      "metadata": {
        "id": "2GlImidJ0X9u"
      }
    },
    {
      "cell_type": "markdown",
      "source": [
        "# How to Create a Chatbot Using Azure OpenAI\n",
        "\n",
        "## Introduction\n",
        "Azure OpenAI provides a powerful platform for generating and manipulating text using models like GPT-3 and GPT-4. This guide will walk you through the process of creating a chatbot using Azure OpenAI, including prerequisites, resource creation, model deployment, and experimentation.\n",
        "\n",
        "## Prerequisites\n",
        "To get started, make sure you have the following in place:\n",
        "\n",
        "1. **Azure Subscription**: You need an Azure subscription to access Azure OpenAI. You can create one for free. [link](https://customervoice.microsoft.com/Pages/ResponsePage.aspx?id=v4j5cvGGr0GRqy180BHbR7en2Ais5pxKtso_Pz4b1_xUOFA5Qk1UWDRBMjg0WFhPMkIzTzhKQ1dWNyQlQCN0PWcu)\n",
        "2. **Access to Azure OpenAI**: Apply for access by completing the form at this [link](https://customervoice.microsoft.com/Pages/ResponsePage.aspx?id=v4j5cvGGr0GRqy180BHbR7en2Ais5pxKtso_Pz4b1_xUOFA5Qk1UWDRBMjg0WFhPMkIzTzhKQ1dWNyQlQCN0PWcu)\n",
        "3. **Azure OpenAI Resource**: Deploy a model using the resource deployment guide.[link](https://learn.microsoft.com/en-us/azure/ai-services/openai/how-to/create-resource?pivots=web-portal)\n",
        "\n",
        "## Getting Started with Azure OpenAI Studio\n",
        "Follow these steps to dive into Azure OpenAI Studio:\n",
        "\n",
        "1. **Navigate to Azure OpenAI Studio**: Go to oai.azure.com and sign in with the appropriate credentials.\n",
        "2. **Explore Examples**: Navigate through examples for prompt completion, deployment management, and learning resources.\n",
        "3. **Playground**: Experiment with the GPT-3 Playground for a no-code approach to generating text completions.\n",
        "\n",
        "## Creating a Deployment\n",
        "Create a deployment and fine-tune it according to your needs:\n",
        "\n",
        "1. **Select \"Create a Deployment\"**: Follow the instructions provided by the wizard.\n",
        "2. **Experiment with Configuration Settings**: Adjust parameters like temperature and pre-response text to enhance performance.\n",
        "3. **Content Moderation**: Azure OpenAI performs content moderation on input prompts and generated outputs.\n",
        "4. **Text Summarization Example**:\n",
        "   - Sign in to Azure OpenAI Studio.\n",
        "   - Select your subscription and OpenAI resource.\n",
        "   - Choose a deployment or create a new one.\n",
        "   - Under Examples, select \"Summarize Text\".\n",
        "   - Click \"Generate\" to see Azure OpenAI succinctly rephrase the provided text.\n",
        "\n",
        "## Clean Up Resources\n",
        "Once you're done, clean up your resources:\n",
        "\n",
        "- **Delete Resource**: Remove the resource or resource group to maintain tidiness.\n",
        "\n",
        "## Next Steps\n",
        "Continue your exploration and learning:\n",
        "\n",
        "- **Learn More**: Refer to the How-to guide on completions and explore the Azure OpenAI Samples GitHub repository.\n",
        "\n",
        "## Additional Resources\n",
        "Access more references:\n",
        "\n",
        "- [Quickstart](#): Get started using GPT-35-Turbo and GPT-4 with Azure OpenAI Service.\n",
        "- [How to Work with Models](#): Understand how to work with the GPT-35-Turbo and GPT-4 models.\n",
        "- [Azure OpenAI Service Models](#): Explore available Azure OpenAI service models.\n",
        "\n",
        "## Conclusion\n",
        "By following these steps, you can create a customized chatbot using Azure OpenAI. This guide offers an in-depth overview of the process, allowing you to leverage the capabilities of Azure OpenAI for a wide range of applications.\n"
      ],
      "metadata": {
        "id": "aZBVviz8_cev"
      }
    },
    {
      "cell_type": "markdown",
      "source": [],
      "metadata": {
        "id": "jiG8PJnfntSs"
      }
    },
    {
      "cell_type": "markdown",
      "source": [
        "- https://learn.microsoft.com/en-us/azure/ai-services/openai/\n",
        "- https://www.youtube.com/watch?v=A_gVmzAHEhU\n",
        "- https://learn.deeplearning.ai/chatgpt-prompt-eng/lesson/1/introduction\n"
      ],
      "metadata": {
        "id": "lsokAKDFeuvD"
      }
    },
    {
      "cell_type": "markdown",
      "source": [
        "# Building a Chatbot for Analyzing Research Proposals and Suggesting UCF Resources\n",
        "\n",
        "## Introduction\n",
        "This document outlines the process of building a chatbot that can analyze research proposals and suggest appropriate resources from the University of Central Florida (UCF) using Azure OpenAI. The chatbot will leverage natural language understanding capabilities to provide valuable insights and recommendations to researchers at UCF.\n",
        "\n",
        "## Table of Contents\n",
        "- [Preprocess and Analyze Research Proposals](#preprocess-and-analyze-research-proposals)\n",
        "  - Extract Text from Proposals\n",
        "  - Utilize Azure OpenAI for Semantic Analysis\n",
        "- [Topic Modeling (Optional)](#topic-modeling-optional)\n",
        "- [Map to UCF's Resources](#map-to-ucfs-resources)\n",
        "  - Integrate with UCF's Databases\n",
        "  - Develop Custom Prompts for Azure OpenAI\n",
        "- [Build the Chatbot Interface](#build-the-chatbot-interface)\n",
        "  - Design the User Interface (UI)\n",
        "  - Implement the User Experience (UX)\n",
        "- [Deploy the Chatbot](#deploy-the-chatbot)\n",
        "  - Host on Azure\n",
        "  - Integrate with UCF's Website\n",
        "- [Ensure Privacy and Security](#ensure-privacy-and-security)\n",
        "- [Monitor and Optimize](#monitor-and-optimize)\n",
        "\n",
        "## 1. Preprocess and Analyze Research Proposals\n",
        "### A. Extract Text from Proposals\n",
        "- If proposals are in various formats (e.g., PDF, Word), extract the text content.\n",
        "- Clean and normalize the text for analysis.\n",
        "\n",
        "### B. Utilize Azure OpenAI for Semantic Analysis\n",
        "- Use models like GPT-4 to understand the context and semantics of the proposals.\n",
        "- Analyze the text to identify key themes, methodologies, tools, etc.\n",
        "\n",
        "## 2. Topic Modeling (Optional)\n",
        "- While Azure OpenAI models like GPT-4 are great for semantic understanding, they don't directly perform topic modeling like LDA.\n",
        "- You may choose to use other tools or libraries for topic modeling and then integrate the results with Azure OpenAI's analysis.\n",
        "\n",
        "## 3. Map to UCF's Resources\n",
        "### A. Integrate with UCF's Databases\n",
        "- Establish a connection to UCF's databases to access information about available resources.\n",
        "- Create a mapping between research topics and corresponding UCF resources.\n",
        "\n",
        "### B. Develop Custom Prompts for Azure OpenAI\n",
        "- Design prompts that guide the model to generate desired responses, such as resource recommendations.\n",
        "- For example, a prompt might include details from a research proposal and ask the model to suggest relevant resources from UCF.\n",
        "\n",
        "## 4. Build the Chatbot Interface\n",
        "### A. Design the User Interface (UI)\n",
        "- Create a visually appealing and user-friendly chat interface for users to submit proposals and receive recommendations.\n",
        "\n",
        "### B. Implement the User Experience (UX)\n",
        "- Handle user interactions, such as submitting proposals, displaying recommendations, and providing feedback.\n",
        "\n",
        "## 5. Deploy the Chatbot\n",
        "### A. Host on Azure\n",
        "- Deploy the chatbot on Azure, configuring the necessary resources and endpoints.\n",
        "\n",
        "### B. Integrate with UCF's Website\n",
        "- Embed the chatbot on the UCF website or provide a link to the chatbot's standalone site.\n",
        "\n",
        "## 6. Ensure Privacy and Security\n",
        "- Implement security measures to protect the privacy of the proposals.\n",
        "- Comply with legal and ethical guidelines related to research data and intellectual property.\n",
        "\n",
        "## 7. Monitor and Optimize\n",
        "- Set up monitoring tools to track the chatbot's performance and user interactions.\n",
        "- Regularly analyze performance data to identify areas for improvement.\n",
        "\n",
        "## Conclusion\n",
        "By leveraging Azure OpenAI's powerful natural language understanding capabilities, the chatbot can provide a valuable tool for researchers at UCF. Collaboration with UCF's research administration, faculty, and IT teams will be essential to ensure accuracy and alignment with the university's mission. Continuous learning and adaptation will be key to maintaining effectiveness over time.\n"
      ],
      "metadata": {
        "id": "Bl1cG5C0iV_7"
      }
    },
    {
      "cell_type": "markdown",
      "source": [],
      "metadata": {
        "id": "bKWGKN27icX8"
      }
    },
    {
      "cell_type": "code",
      "source": [],
      "metadata": {
        "id": "e4GILlaPR9Fv"
      },
      "execution_count": null,
      "outputs": []
    }
  ]
}